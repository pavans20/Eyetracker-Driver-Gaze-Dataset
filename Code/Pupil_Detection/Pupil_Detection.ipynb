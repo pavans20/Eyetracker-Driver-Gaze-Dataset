{
 "cells": [
  {
   "cell_type": "markdown",
   "metadata": {},
   "source": [
    "# Pupil Detection"
   ]
  },
  {
   "cell_type": "code",
   "execution_count": null,
   "metadata": {},
   "outputs": [],
   "source": [
    "!pip install pupil-detectors"
   ]
  },
  {
   "cell_type": "code",
   "execution_count": 2,
   "metadata": {},
   "outputs": [],
   "source": [
    "import os\n",
    "import cv2\n",
    "import csv\n",
    "from pupil_detectors import Detector2D\n",
    "\n",
    "# Initialize the detector\n",
    "detector = Detector2D()\n",
    "\n",
    "# Folder containing the input images\n",
    "input_folder_path = \"E:/Driver_Gaze_Data/P4320230528D4/Eyetracker_Data/pupil-cloud-download-2024-01-17T10-39-06.829160-1-recordings/2023-05-28_18-01-05-82c6b903/exports/000/Eye0_Rotate_Frame/\"\n",
    "\n",
    "# Output folder path for images with ellipse drawn\n",
    "output_folder_path = \"E:/Driver_Gaze_Data/P4320230528D4/Eyetracker_Data/pupil-cloud-download-2024-01-17T10-39-06.829160-1-recordings/2023-05-28_18-01-05-82c6b903/exports/000/Eye1_Pupil_Detected_Frame1/\"\n",
    "\n",
    "# Output CSV file path\n",
    "output_csv_path = \"E:/Driver_Gaze_Data/P4320230528D4/Eyetracker_Data/pupil-cloud-download-2024-01-17T10-39-06.829160-1-recordings/2023-05-28_18-01-05-82c6b903/exports/000/Eye1_Pupil_Detected_Frame1/Eye1_output_results1.csv\"\n",
    "\n",
    "# Open the CSV file for writing\n",
    "with open(output_csv_path, 'w', newline='') as csvfile:\n",
    "    fieldnames = ['filename', 'center_x', 'center_y', 'major_axis', 'minor_axis', 'angle']\n",
    "    csv_writer = csv.DictWriter(csvfile, fieldnames=fieldnames)\n",
    "    \n",
    "    # Write the header to the CSV file\n",
    "    csv_writer.writeheader()\n",
    "\n",
    "    # Iterate through all image files in the input folder\n",
    "    for filename in os.listdir(input_folder_path):\n",
    "        if filename.endswith(\".jpg\"):\n",
    "            # Read the image\n",
    "            img_path = os.path.join(input_folder_path, filename)\n",
    "            img = cv2.imread(img_path)\n",
    "            gray = cv2.cvtColor(img, cv2.COLOR_BGR2GRAY)\n",
    "\n",
    "            # Detect ellipse\n",
    "            result = detector.detect(gray)\n",
    "            ellipse = result[\"ellipse\"]\n",
    "\n",
    "            # Draw the ellipse on the image\n",
    "            cv2.ellipse(\n",
    "                img,\n",
    "                tuple(int(v) for v in ellipse[\"center\"]),\n",
    "                tuple(int(v / 2) for v in ellipse[\"axes\"]),\n",
    "                ellipse[\"angle\"],\n",
    "                0, 360,\n",
    "                (0, 0, 255)\n",
    "            )\n",
    "\n",
    "            # Save the image with ellipse drawn to the output folder\n",
    "            output_img_path = os.path.join(output_folder_path, filename)\n",
    "            cv2.imwrite(output_img_path, img)\n",
    "\n",
    "            # Write the results to the CSV file\n",
    "            csv_writer.writerow({\n",
    "                'filename': filename,\n",
    "                'center_x': ellipse['center'][0],\n",
    "                'center_y': ellipse['center'][1],\n",
    "                'major_axis': ellipse['axes'][0],\n",
    "                'minor_axis': ellipse['axes'][1],\n",
    "                'angle': ellipse['angle']\n",
    "            })\n",
    "\n",
    "# Close the CSV file\n",
    "csvfile.close()\n"
   ]
  }
 ],
 "metadata": {
  "kernelspec": {
   "display_name": "Python 3",
   "language": "python",
   "name": "python3"
  },
  "language_info": {
   "codemirror_mode": {
    "name": "ipython",
    "version": 3
   },
   "file_extension": ".py",
   "mimetype": "text/x-python",
   "name": "python",
   "nbconvert_exporter": "python",
   "pygments_lexer": "ipython3",
   "version": "3.8.5"
  }
 },
 "nbformat": 4,
 "nbformat_minor": 4
}
